{
 "cells": [
  {
   "cell_type": "markdown",
   "metadata": {
    "id": "sIS1Uj37Od5R"
   },
   "source": [
    "# Numpy"
   ]
  },
  {
   "cell_type": "markdown",
   "metadata": {
    "id": "arYzqWn9Od5V"
   },
   "source": [
    "Материалы:\n",
    "* Макрушин С.В. \"Лекция 1: Библиотека Numpy\"\n",
    "* https://numpy.org/doc/stable/user/index.html\n",
    "* https://numpy.org/doc/stable/reference/index.html"
   ]
  },
  {
   "cell_type": "markdown",
   "metadata": {
    "id": "MHLxrv1YOd5W"
   },
   "source": [
    "## Задачи для совместного разбора"
   ]
  },
  {
   "cell_type": "markdown",
   "metadata": {
    "id": "XwZfLYZmOd5W"
   },
   "source": [
    "1. Сгенерировать двухмерный массив `arr` размерности (4, 7), состоящий из случайных действительных чисел, равномерно распределенных в диапазоне от 0 до 20. Нормализовать значения массива с помощью преобразования вида  $𝑎𝑥+𝑏$  так, что после нормализации максимальный элемент масcива будет равен 1.0, минимальный 0.0"
   ]
  },
  {
   "cell_type": "code",
   "execution_count": 1,
   "metadata": {
    "colab": {
     "base_uri": "https://localhost:8080/"
    },
    "id": "XMuA9QA3Od5X",
    "outputId": "bcf5c1e5-2de6-4260-93f2-95e3b3a436fd"
   },
   "outputs": [
    {
     "data": {
      "text/plain": [
       "array([[0.52185724, 0.99027279, 0.89790522, 0.79709137, 0.36799214,\n",
       "        0.30757618, 0.95025287],\n",
       "       [0.76880309, 1.        , 0.57630178, 0.11887496, 0.48619729,\n",
       "        0.85588311, 0.21295035],\n",
       "       [0.49305393, 0.97573315, 0.55942962, 0.86001108, 0.43676664,\n",
       "        0.10041225, 0.06671354],\n",
       "       [0.20439538, 0.38672006, 0.        , 0.57502513, 0.34373217,\n",
       "        0.6066512 , 0.08623474]])"
      ]
     },
     "execution_count": 1,
     "metadata": {},
     "output_type": "execute_result"
    }
   ],
   "source": [
    "import numpy as np\n",
    "arr=np.random.rand(4,7)*20\n",
    "minim=arr.min()\n",
    "maxim=arr.max()\n",
    "ar=(arr-minim)/(maxim-minim)\n",
    "ar"
   ]
  },
  {
   "cell_type": "markdown",
   "metadata": {
    "id": "erbkWoP0Od5X"
   },
   "source": [
    "2. Создать матрицу 8 на 10 из случайных целых (используя модуль `numpy.random`) чисел из диапозона от 0 до 10 и найти в ней строку (ее индекс и вывести саму строку), в которой сумма значений минимальна."
   ]
  },
  {
   "cell_type": "code",
   "execution_count": null,
   "metadata": {
    "colab": {
     "base_uri": "https://localhost:8080/"
    },
    "id": "dEsoX9HMQ_q8",
    "outputId": "856f530e-7686-48cc-9cd9-bb8d0a53e9ec"
   },
   "outputs": [
    {
     "name": "stdout",
     "output_type": "stream",
     "text": [
      "[[4 3 6 5 5 3 0 3 9 1]\n",
      " [1 8 5 1 0 1 2 0 4 2]\n",
      " [3 3 1 7 4 5 7 8 8 3]\n",
      " [4 7 1 1 9 5 0 9 7 6]\n",
      " [1 9 4 3 1 4 8 6 7 5]\n",
      " [5 7 5 7 5 6 4 2 5 4]\n",
      " [4 0 7 5 8 1 0 0 8 6]\n",
      " [4 6 4 3 0 7 9 4 8 1]]\n",
      "[39 24 49 49 48 50 39 46]\n",
      "1\n",
      "[1 8 5 1 0 1 2 0 4 2]\n"
     ]
    }
   ],
   "source": [
    "import numpy as np\n",
    "arr=np.random.randint(10, size=(8,10))\n",
    "summ=np.sum(arr, axis=1)\n",
    "summin=summ.argmin()\n",
    "\n",
    "print(arr)\n",
    "print(summ)\n",
    "print(summin)\n",
    "print(arr[summin])\n"
   ]
  },
  {
   "cell_type": "markdown",
   "metadata": {
    "id": "Dytdw597Od5Y"
   },
   "source": [
    "3. Найти евклидово расстояние между двумя одномерными векторами одинаковой размерности."
   ]
  },
  {
   "cell_type": "code",
   "execution_count": null,
   "metadata": {
    "colab": {
     "base_uri": "https://localhost:8080/"
    },
    "id": "L4eZOwmZT01j",
    "outputId": "a76a348b-0be9-42c2-9e79-8b3450b68643"
   },
   "outputs": [
    {
     "name": "stdout",
     "output_type": "stream",
     "text": [
      "[0 0 0]\n",
      "[0 0 1]\n",
      "1.0\n"
     ]
    }
   ],
   "source": [
    "import numpy as np\n",
    "arr1=np.array([0,0,0])#np.random.randint(10,size=(1,3))\n",
    "arr2=np.array([0,0,1])#np.random.randint(10,size=(1,3))\n",
    "print(arr1)\n",
    "print(arr2)\n",
    "rez=np.linalg.norm(arr1-arr2)\n",
    "print(rez)"
   ]
  },
  {
   "cell_type": "markdown",
   "metadata": {
    "id": "jrHrlHjeOd5Y"
   },
   "source": [
    "4. Решить матричное уравнение `A*X*B=-C` - найти матрицу `X`. Где `A = [[-1, 2, 4], [-3, 1, 2], [-3, 0, 1]]`, `B=[[3, -1], [2, 1]]`, `C=[[7, 21], [11, 8], [8, 4]]`."
   ]
  },
  {
   "cell_type": "code",
   "execution_count": null,
   "metadata": {
    "colab": {
     "base_uri": "https://localhost:8080/"
    },
    "id": "DajGB_6bWSXe",
    "outputId": "41eb1ff9-b5b5-4cce-e6d5-4449eb74f18b"
   },
   "outputs": [
    {
     "name": "stdout",
     "output_type": "stream",
     "text": [
      "[[ -7. -21.]\n",
      " [-11.  -8.]\n",
      " [ -8.  -4.]]\n"
     ]
    }
   ],
   "source": [
    "\n",
    "A=np.array([[-1,2,4],[-3,1,2],[-3,0,1]])\n",
    "B=np.array([[3,-1],[2,1]])\n",
    "C=np.array([[7,21],[11,8],[8,4]])\n",
    "x=-np.linalg.inv(A)@C@np.linalg.inv(B)\n",
    "\n",
    "print(A@x@B)\n"
   ]
  },
  {
   "cell_type": "markdown",
   "metadata": {
    "id": "Kj6REuCCOd5Y"
   },
   "source": [
    "## Лабораторная работа №1"
   ]
  },
  {
   "cell_type": "markdown",
   "metadata": {
    "id": "em28vOdXOd5Z"
   },
   "source": [
    "Замечание: при решении данных задач не подразумевается использования циклов или генераторов Python, если в задании не сказано обратного. Решение должно опираться на использования функционала библиотеки `numpy`."
   ]
  },
  {
   "cell_type": "markdown",
   "metadata": {
    "id": "fSXiVEIDOd5Z"
   },
   "source": [
    "1. Файл `minutes_n_ingredients.csv` содержит информацию об идентификаторе рецепта, времени его выполнения в минутах и количестве необходимых ингредиентов. Считайте данные из этого файла в виде массива `numpy` типа `int32`, используя `np.loadtxt`. Выведите на экран первые 5 строк массива."
   ]
  },
  {
   "cell_type": "code",
   "execution_count": 1,
   "metadata": {
    "colab": {
     "base_uri": "https://localhost:8080/"
    },
    "id": "JXrat4VZZnXd",
    "outputId": "6f051801-5782-41d6-987d-1b34e2bc4cfb"
   },
   "outputs": [
    {
     "name": "stdout",
     "output_type": "stream",
     "text": [
      "Mounted at /content/drive\n"
     ]
    },
    {
     "data": {
      "text/plain": [
       "array([[127244,     60,     16],\n",
       "       [ 23891,     25,      7],\n",
       "       [ 94746,     10,      6],\n",
       "       [ 67660,      5,      6],\n",
       "       [157911,     60,     14]], dtype=int32)"
      ]
     },
     "execution_count": 1,
     "metadata": {},
     "output_type": "execute_result"
    }
   ],
   "source": [
    "import numpy as np\n",
    "from google.colab import drive\n",
    "drive.mount('/content/drive')\n",
    "a=np.loadtxt(r\"/content/drive/MyDrive/Colab Notebooks/minutes_n_ingredients.csv\",dtype=np.int32, skiprows=1,delimiter=',')\n",
    "a[:5]"
   ]
  },
  {
   "cell_type": "markdown",
   "metadata": {
    "id": "VUZ2QIqEOd5Z"
   },
   "source": [
    "2. Вычислите среднее значение, минимум, максимум и медиану по каждому из столбцов, кроме первого."
   ]
  },
  {
   "cell_type": "code",
   "execution_count": 11,
   "metadata": {
    "colab": {
     "base_uri": "https://localhost:8080/"
    },
    "id": "Q9Cy993eeRq3",
    "outputId": "d9a3882a-d1d7-4d14-a0e5-802d367867a0"
   },
   "outputs": [
    {
     "name": "stdout",
     "output_type": "stream",
     "text": [
      "сред  [2.22064324e+05 2.16010017e+04 9.05528000e+00]\n",
      "мин  [38  0  1]\n",
      "макс  [    537671 2147483647         39]\n",
      "медиана  [2.071935e+05 4.000000e+01 9.000000e+00]\n"
     ]
    }
   ],
   "source": [
    "print(\"сред \", np.mean(a, axis=0))\n",
    "print(\"мин \",np.min(a, axis=0))\n",
    "print(\"макс \",np.max(a,axis=0))\n",
    "print(\"медиана \",np.median(a,axis=0))\n"
   ]
  },
  {
   "cell_type": "markdown",
   "metadata": {
    "id": "obUu48fiOd5a"
   },
   "source": [
    "3. Ограничьте сверху значения продолжительности выполнения рецепта значением квантиля $q_{0.75}$. "
   ]
  },
  {
   "cell_type": "code",
   "execution_count": 2,
   "metadata": {
    "colab": {
     "base_uri": "https://localhost:8080/"
    },
    "id": "08YT4nqle6my",
    "outputId": "7c6e3bd1-f5f7-416f-e564-126dfb270164"
   },
   "outputs": [
    {
     "data": {
      "text/plain": [
       "array([[127244,     60,     16],\n",
       "       [ 23891,     25,      7],\n",
       "       [ 94746,     10,      6],\n",
       "       ...,\n",
       "       [498432,     65,     15],\n",
       "       [370915,      5,      4],\n",
       "       [ 81993,     65,     14]], dtype=int32)"
      ]
     },
     "execution_count": 2,
     "metadata": {},
     "output_type": "execute_result"
    }
   ],
   "source": [
    "dataset= np.copy(a)\n",
    "q = np.quantile(a[:,1],0.75)\n",
    "a[:,1] = a[:,1].clip(max=q)\n",
    "a"
   ]
  },
  {
   "cell_type": "markdown",
   "metadata": {
    "id": "rPCdqbjkOd5a"
   },
   "source": [
    "4. Посчитайте, для скольких рецептов указана продолжительность, равная нулю. Замените для таких строк значение в данном столбце на 1."
   ]
  },
  {
   "cell_type": "code",
   "execution_count": 31,
   "metadata": {
    "colab": {
     "base_uri": "https://localhost:8080/"
    },
    "id": "Vjz30JACfhqv",
    "outputId": "fe18a358-6b26-451e-ee21-bcf9652c5338"
   },
   "outputs": [
    {
     "name": "stdout",
     "output_type": "stream",
     "text": [
      "Количество рецептов: 479\n",
      "0\n"
     ]
    }
   ],
   "source": [
    "dataset= np.copy(a)\n",
    "rez= len(dataset)-np.count_nonzero(dataset[:,1])\n",
    "\n",
    "print(\"Количество рецептов:\", rez)\n",
    "dataset[dataset[:,1]==0,1]=1\n",
    "rez= len(dataset)-np.count_nonzero(dataset[:,1])\n",
    "print(rez)"
   ]
  },
  {
   "cell_type": "markdown",
   "metadata": {
    "id": "Onx_YilLOd5a"
   },
   "source": [
    "5. Посчитайте, сколько уникальных рецептов находится в датасете."
   ]
  },
  {
   "cell_type": "code",
   "execution_count": 15,
   "metadata": {
    "colab": {
     "base_uri": "https://localhost:8080/"
    },
    "id": "TjSjj5xegvNt",
    "outputId": "efff064f-81f2-4b4d-bfee-1b20cb6d0ff3"
   },
   "outputs": [
    {
     "data": {
      "text/plain": [
       "656"
      ]
     },
     "execution_count": 15,
     "metadata": {},
     "output_type": "execute_result"
    }
   ],
   "source": [
    "dataset1= np.copy(a)\n",
    "rez= len(np.unique(dataset1[:,1:]))\n",
    "rez"
   ]
  },
  {
   "cell_type": "markdown",
   "metadata": {
    "id": "hG4MGWOBOd5a"
   },
   "source": [
    "6. Сколько и каких различных значений кол-ва ингредиентов присутвует в рецептах из датасета?"
   ]
  },
  {
   "cell_type": "code",
   "execution_count": 3,
   "metadata": {
    "colab": {
     "base_uri": "https://localhost:8080/"
    },
    "id": "04xxY9iYRCAY",
    "outputId": "bac24c39-2757-4ff0-e16b-098893724515"
   },
   "outputs": [
    {
     "data": {
      "text/plain": [
       "array([ 1,  2,  3,  4,  5,  6,  7,  8,  9, 10, 11, 12, 13, 14, 15, 16, 17,\n",
       "       18, 19, 20, 21, 22, 23, 24, 25, 26, 27, 28, 29, 30, 31, 32, 33, 34,\n",
       "       35, 37, 39], dtype=int32)"
      ]
     },
     "execution_count": 3,
     "metadata": {},
     "output_type": "execute_result"
    }
   ],
   "source": [
    "dataset1= np.copy(a)\n",
    "rez= np.unique(dataset1[:,2:])\n",
    "rez"
   ]
  },
  {
   "cell_type": "markdown",
   "metadata": {
    "id": "i0jKCIHbOd5b"
   },
   "source": [
    "7. Создайте версию массива, содержащую информацию только о рецептах, состоящих не более чем из 5 ингредиентов."
   ]
  },
  {
   "cell_type": "code",
   "execution_count": 45,
   "metadata": {
    "colab": {
     "base_uri": "https://localhost:8080/"
    },
    "id": "DDKyFwVdrMp3",
    "outputId": "7369a532-e6cf-4932-f48e-fe8273966104"
   },
   "outputs": [
    {
     "data": {
      "text/plain": [
       "array([[204134,      5,      3],\n",
       "       [ 25623,      6,      4],\n",
       "       [484223,     18,      4],\n",
       "       ...,\n",
       "       [227056,     30,      4],\n",
       "       [128811,     15,      4],\n",
       "       [370915,      5,      4]], dtype=int32)"
      ]
     },
     "execution_count": 45,
     "metadata": {},
     "output_type": "execute_result"
    }
   ],
   "source": [
    "dataset=np.copy(a)\n",
    "dataset[dataset[:,2]<5]"
   ]
  },
  {
   "cell_type": "markdown",
   "metadata": {
    "id": "qCtwq3rZOd5b"
   },
   "source": [
    "8. Для каждого рецепта посчитайте, сколько в среднем ингредиентов приходится на одну минуту рецепта. Найдите максимальное значение этой величины для всего датасета"
   ]
  },
  {
   "cell_type": "code",
   "execution_count": 19,
   "metadata": {
    "colab": {
     "base_uri": "https://localhost:8080/"
    },
    "id": "R3ElU48OlF60",
    "outputId": "e71bee2f-f29e-4e14-fcc7-61b12f13d072"
   },
   "outputs": [
    {
     "name": "stdout",
     "output_type": "stream",
     "text": [
      "[[1.27244000e+05 6.00000000e+01 2.66666667e-01 2.66666667e-01]\n",
      " [2.38910000e+04 2.50000000e+01 2.80000000e-01 2.80000000e-01]\n",
      " [9.47460000e+04 1.00000000e+01 6.00000000e-01 6.00000000e-01]\n",
      " ...\n",
      " [4.98432000e+05 6.50000000e+01 2.30769231e-01 2.30769231e-01]\n",
      " [3.70915000e+05 5.00000000e+00 8.00000000e-01 8.00000000e-01]\n",
      " [8.19930000e+04 1.40000000e+02 1.00000000e-01 1.00000000e-01]]\n"
     ]
    }
   ],
   "source": [
    "dataset2 = np.copy(a)\n",
    "dataset2 = np.c_[dataset2, np.zeros(np.shape(dataset2)[0])]\n",
    "dataset2 = dataset2.astype(float, copy=False)\n",
    "dataset2[:,3] += np.divide(dataset2[:, 2], dataset2[:, 1], out=dataset2[:, 2], where=dataset2[:, 1] != 0)\n",
    "print(dataset2)"
   ]
  },
  {
   "cell_type": "markdown",
   "metadata": {
    "id": "TaDmVLVCOd5b"
   },
   "source": [
    "9. Вычислите среднее количество ингредиентов для топ-100 рецептов с наибольшей продолжительностью"
   ]
  },
  {
   "cell_type": "code",
   "execution_count": 49,
   "metadata": {
    "colab": {
     "base_uri": "https://localhost:8080/"
    },
    "id": "ze1RYwkytMgH",
    "outputId": "cd80c524-8922-4996-f45b-2e432d6a9301"
   },
   "outputs": [
    {
     "name": "stdout",
     "output_type": "stream",
     "text": [
      "[[    261647 2147483647          8]\n",
      " [    216215     259260          7]\n",
      " [    425681     259205          2]\n",
      " [     98912     216015          4]\n",
      " [     70551     201610          7]\n",
      " [    236340     146880          5]\n",
      " [    242032     132495          3]\n",
      " [    184528     129620          3]\n",
      " [    236274     129615          5]\n",
      " [    236281     129615          5]]\n",
      "[ 8  7  2  4  7  5  3  3  5  5  4  2  4  3  9  2  2  3  3  7  5  4  3 22\n",
      "  4 15  8  3  2  5  9  3  3 17  7  3  8  4  6  5  5  6  4  2  8  6  8  6\n",
      "  8  3  4  4 10 12 11 11  5  4  4  9 10  7 12  5  9  6  3  6  9  2  4 13\n",
      "  3  6  5 13  8  5  5 13 10 17  8  5  8  8  3  8 14  3  8 12  8 13  7  6\n",
      "  7  8  4  6]\n",
      "6.61\n"
     ]
    }
   ],
   "source": [
    "dataset= a[a[:, 1]. argsort ()[::-1]]\n",
    "print(np.mean(dataset[:100,2]))"
   ]
  },
  {
   "cell_type": "markdown",
   "metadata": {
    "id": "xqo99sDVOd5c"
   },
   "source": [
    "10. Выберите случайным образом и выведите информацию о 10 различных рецептах"
   ]
  },
  {
   "cell_type": "code",
   "execution_count": 37,
   "metadata": {
    "colab": {
     "base_uri": "https://localhost:8080/"
    },
    "id": "R9QShlq2sj1Z",
    "outputId": "50b41dcd-d239-4299-ecd5-35a462882224"
   },
   "outputs": [
    {
     "data": {
      "text/plain": [
       "array([[ 32860,      2,      7],\n",
       "       [ 28075,     15,      6],\n",
       "       [180800,      5,      3],\n",
       "       [ 50005,      5,      8],\n",
       "       [164062,     70,     14],\n",
       "       [515426,    510,     10],\n",
       "       [ 82783,     31,      5],\n",
       "       [312914,     20,      3],\n",
       "       [159184,     60,     13],\n",
       "       [180662,     10,     11]], dtype=int32)"
      ]
     },
     "execution_count": 37,
     "metadata": {},
     "output_type": "execute_result"
    }
   ],
   "source": [
    "rand=np.random.randint(10000, size=10)\n",
    "a[rand,:]\n"
   ]
  },
  {
   "cell_type": "markdown",
   "metadata": {
    "id": "knBuwGEeOd5c"
   },
   "source": [
    "11. Выведите процент рецептов, кол-во ингредиентов в которых меньше среднего."
   ]
  },
  {
   "cell_type": "code",
   "execution_count": 32,
   "metadata": {
    "colab": {
     "base_uri": "https://localhost:8080/"
    },
    "id": "321K9c2qmDi7",
    "outputId": "42f75bad-5375-476f-954f-7f66a506bda2"
   },
   "outputs": [
    {
     "name": "stdout",
     "output_type": "stream",
     "text": [
      "58.802 %\n"
     ]
    }
   ],
   "source": [
    "dataset2 = np.copy(a)\n",
    "length = len(dataset2)\n",
    "sred = np.sum(dataset2[:,2]) / length  \n",
    "rez_mas = dataset2[dataset2[:,2] < sred]                \n",
    "result = (len(rez_mas)/length * 100) # Результат в процентах\n",
    "print(result,'%')"
   ]
  },
  {
   "cell_type": "markdown",
   "metadata": {
    "id": "s6v_dhJXOd5c"
   },
   "source": [
    "12. Назовем \"простым\" такой рецепт, длительность выполнения которого не больше 20 минут и кол-во ингредиентов в котором не больше 5. Создайте версию датасета с дополнительным столбцом, значениями которого являются 1, если рецепт простой, и 0 в противном случае."
   ]
  },
  {
   "cell_type": "code",
   "execution_count": 4,
   "metadata": {
    "colab": {
     "base_uri": "https://localhost:8080/"
    },
    "id": "212XPudbRZ7Q",
    "outputId": "ccb01ca5-16d1-4713-a73e-5815775e5c35"
   },
   "outputs": [
    {
     "data": {
      "text/plain": [
       "array([[1.27244e+05, 6.00000e+01, 1.60000e+01, 1.00000e+00],\n",
       "       [2.38910e+04, 2.50000e+01, 7.00000e+00, 1.00000e+00],\n",
       "       [9.47460e+04, 1.00000e+01, 6.00000e+00, 0.00000e+00],\n",
       "       ...,\n",
       "       [4.98432e+05, 6.50000e+01, 1.50000e+01, 1.00000e+00],\n",
       "       [3.70915e+05, 5.00000e+00, 4.00000e+00, 0.00000e+00],\n",
       "       [8.19930e+04, 6.50000e+01, 1.40000e+01, 1.00000e+00]])"
      ]
     },
     "execution_count": 4,
     "metadata": {},
     "output_type": "execute_result"
    }
   ],
   "source": [
    "dataset2 = np.copy(a)          \n",
    "b = np.zeros((len(dataset2),4))\n",
    "b[:,:-1] = dataset2\n",
    "b[:,3] = np.where(dataset2[:,2]<=5, 0, (np.where(dataset2[:,1]>20, 1, 0)))\n",
    "b"
   ]
  },
  {
   "cell_type": "markdown",
   "metadata": {
    "id": "1xmEcDdMOd5d"
   },
   "source": [
    "13. Выведите процент \"простых\" рецептов в датасете"
   ]
  },
  {
   "cell_type": "code",
   "execution_count": 5,
   "metadata": {
    "colab": {
     "base_uri": "https://localhost:8080/"
    },
    "id": "Eszh5ZHPRfMo",
    "outputId": "f4d7978c-4eda-4c20-852f-9cf5892703bc"
   },
   "outputs": [
    {
     "data": {
      "text/plain": [
       "34.36"
      ]
     },
     "execution_count": 5,
     "metadata": {},
     "output_type": "execute_result"
    }
   ],
   "source": [
    "length = len(dataset2)\n",
    "rez= length-np.count_nonzero(b[:,3])               \n",
    "result = (rez/length * 100) \n",
    "result"
   ]
  },
  {
   "cell_type": "markdown",
   "metadata": {
    "id": "tYM0FXYyOd5d"
   },
   "source": [
    "14. Разделим рецепты на группы по следующему правилу. Назовем рецепты короткими, если их продолжительность составляет менее 10 минут; стандартными, если их продолжительность составляет более 10, но менее 20 минут; и длинными, если их продолжительность составляет не менее 20 минут. Создайте трехмерный массив, где нулевая ось отвечает за номер группы (короткий, стандартный или длинный рецепт), первая ось - за сам рецепт и вторая ось - за характеристики рецепта. Выберите максимальное количество рецептов из каждой группы таким образом, чтобы было возможно сформировать трехмерный массив. Выведите форму полученного массива."
   ]
  },
  {
   "cell_type": "code",
   "execution_count": null,
   "metadata": {
    "id": "Vyk22gk3Od5d"
   },
   "outputs": [],
   "source": []
  }
 ],
 "metadata": {
  "colab": {
   "provenance": []
  },
  "kernelspec": {
   "display_name": "Python 3",
   "language": "python",
   "name": "python3"
  },
  "language_info": {
   "codemirror_mode": {
    "name": "ipython",
    "version": 3
   },
   "file_extension": ".py",
   "mimetype": "text/x-python",
   "name": "python",
   "nbconvert_exporter": "python",
   "pygments_lexer": "ipython3",
   "version": "3.9.1"
  }
 },
 "nbformat": 4,
 "nbformat_minor": 1
}
